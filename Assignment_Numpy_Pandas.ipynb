{
 "cells": [
  {
   "cell_type": "code",
   "execution_count": 1,
   "id": "b8f3b1cd-a382-4001-bf95-5a1e784c14d0",
   "metadata": {},
   "outputs": [],
   "source": [
    "import numpy as np"
   ]
  },
  {
   "cell_type": "code",
   "execution_count": 4,
   "id": "d3d432f7-ec8f-459d-be36-35c50ca04938",
   "metadata": {},
   "outputs": [
    {
     "name": "stdout",
     "output_type": "stream",
     "text": [
      "Requirement already satisfied: pandas in c:\\users\\sahal\\anaconda3\\lib\\site-packages (2.2.2)Note: you may need to restart the kernel to use updated packages.\n",
      "\n",
      "Requirement already satisfied: numpy>=1.26.0 in c:\\users\\sahal\\anaconda3\\lib\\site-packages (from pandas) (1.26.4)\n",
      "Requirement already satisfied: python-dateutil>=2.8.2 in c:\\users\\sahal\\anaconda3\\lib\\site-packages (from pandas) (2.9.0.post0)\n",
      "Requirement already satisfied: pytz>=2020.1 in c:\\users\\sahal\\anaconda3\\lib\\site-packages (from pandas) (2024.1)\n",
      "Requirement already satisfied: tzdata>=2022.7 in c:\\users\\sahal\\anaconda3\\lib\\site-packages (from pandas) (2023.3)\n",
      "Requirement already satisfied: six>=1.5 in c:\\users\\sahal\\anaconda3\\lib\\site-packages (from python-dateutil>=2.8.2->pandas) (1.16.0)\n"
     ]
    }
   ],
   "source": [
    "pip install pandas"
   ]
  },
  {
   "cell_type": "code",
   "execution_count": 2,
   "id": "2ceb76e4-8df3-4555-8df2-db6fd8832f86",
   "metadata": {},
   "outputs": [
    {
     "name": "stdout",
     "output_type": "stream",
     "text": [
      "[[ 1  2  3  4  5]\n",
      " [ 6  7  8  9 10]]\n",
      "(2, 5)\n",
      "2\n"
     ]
    }
   ],
   "source": [
    "#Exercise 1\n",
    "a1=np.arange(1,11).reshape(2,5)\n",
    "print(a1)\n",
    "print(a1.shape)\n",
    "print(a1.ndim)"
   ]
  },
  {
   "cell_type": "code",
   "execution_count": 3,
   "id": "6edaf72c-07f4-44da-b3b2-d85c90810fe4",
   "metadata": {},
   "outputs": [
    {
     "name": "stdout",
     "output_type": "stream",
     "text": [
      "[ 1  2  3  4  5  6  7  8  9 10 11 12 13 14 15 16 17 18 19 20]\n",
      "[ 6  7  8  9 10 11 12 13 14 15]\n"
     ]
    }
   ],
   "source": [
    "#Exercise 2\n",
    "a2=np.arange(1,21)\n",
    "print(a2)\n",
    "print(a2[5:15])"
   ]
  },
  {
   "cell_type": "code",
   "execution_count": 4,
   "id": "2a024d47-a969-47cc-892a-fdbc691f29a1",
   "metadata": {},
   "outputs": [],
   "source": [
    "#Exercise 3\n",
    "import pandas as pd"
   ]
  },
  {
   "cell_type": "code",
   "execution_count": 6,
   "id": "1648fde5-699f-417a-bbac-dcdf23eed42e",
   "metadata": {},
   "outputs": [
    {
     "name": "stdout",
     "output_type": "stream",
     "text": [
      "apple      3\n",
      "bananas    2\n",
      "oranges    1\n",
      "dtype: int64\n",
      "apple      3\n",
      "bananas    2\n",
      "oranges    1\n",
      "pears      4\n",
      "dtype: int64\n"
     ]
    }
   ],
   "source": [
    "fruit=pd.Series({'apple':3,'bananas':2,'oranges':1})\n",
    "print(fruit)\n",
    "fruit['pears']=4\n",
    "print(fruit)"
   ]
  },
  {
   "cell_type": "code",
   "execution_count": 7,
   "id": "7bf6d450-18ec-451b-b3ba-32a1623ae338",
   "metadata": {},
   "outputs": [
    {
     "data": {
      "text/html": [
       "<div>\n",
       "<style scoped>\n",
       "    .dataframe tbody tr th:only-of-type {\n",
       "        vertical-align: middle;\n",
       "    }\n",
       "\n",
       "    .dataframe tbody tr th {\n",
       "        vertical-align: top;\n",
       "    }\n",
       "\n",
       "    .dataframe thead th {\n",
       "        text-align: right;\n",
       "    }\n",
       "</style>\n",
       "<table border=\"1\" class=\"dataframe\">\n",
       "  <thead>\n",
       "    <tr style=\"text-align: right;\">\n",
       "      <th></th>\n",
       "      <th>name</th>\n",
       "      <th>age</th>\n",
       "      <th>gender</th>\n",
       "    </tr>\n",
       "  </thead>\n",
       "  <tbody>\n",
       "    <tr>\n",
       "      <th>0</th>\n",
       "      <td>Frank</td>\n",
       "      <td>20</td>\n",
       "      <td>Male</td>\n",
       "    </tr>\n",
       "    <tr>\n",
       "      <th>1</th>\n",
       "      <td>Alice</td>\n",
       "      <td>23</td>\n",
       "      <td>Female</td>\n",
       "    </tr>\n",
       "    <tr>\n",
       "      <th>2</th>\n",
       "      <td>Bob</td>\n",
       "      <td>24</td>\n",
       "      <td>Male</td>\n",
       "    </tr>\n",
       "    <tr>\n",
       "      <th>3</th>\n",
       "      <td>Grazy</td>\n",
       "      <td>22</td>\n",
       "      <td>Female</td>\n",
       "    </tr>\n",
       "    <tr>\n",
       "      <th>4</th>\n",
       "      <td>Ann</td>\n",
       "      <td>20</td>\n",
       "      <td>Female</td>\n",
       "    </tr>\n",
       "    <tr>\n",
       "      <th>5</th>\n",
       "      <td>Charly</td>\n",
       "      <td>34</td>\n",
       "      <td>Male</td>\n",
       "    </tr>\n",
       "    <tr>\n",
       "      <th>6</th>\n",
       "      <td>David</td>\n",
       "      <td>43</td>\n",
       "      <td>Male</td>\n",
       "    </tr>\n",
       "    <tr>\n",
       "      <th>7</th>\n",
       "      <td>Jian</td>\n",
       "      <td>36</td>\n",
       "      <td>Male</td>\n",
       "    </tr>\n",
       "    <tr>\n",
       "      <th>8</th>\n",
       "      <td>Harry</td>\n",
       "      <td>37</td>\n",
       "      <td>Male</td>\n",
       "    </tr>\n",
       "    <tr>\n",
       "      <th>9</th>\n",
       "      <td>Rose</td>\n",
       "      <td>33</td>\n",
       "      <td>Female</td>\n",
       "    </tr>\n",
       "  </tbody>\n",
       "</table>\n",
       "</div>"
      ],
      "text/plain": [
       "     name  age  gender\n",
       "0   Frank   20    Male\n",
       "1   Alice   23  Female\n",
       "2     Bob   24    Male\n",
       "3   Grazy   22  Female\n",
       "4     Ann   20  Female\n",
       "5  Charly   34    Male\n",
       "6   David   43    Male\n",
       "7    Jian   36    Male\n",
       "8   Harry   37    Male\n",
       "9    Rose   33  Female"
      ]
     },
     "execution_count": 7,
     "metadata": {},
     "output_type": "execute_result"
    }
   ],
   "source": [
    "#Exercise 4\n",
    "df=pd.DataFrame({\n",
    "    'name':['Frank', 'Alice', 'Bob', 'Grazy', 'Ann', \n",
    "            'Charly', 'David', 'Jian', 'Harry', 'Rose'],\n",
    "    'age':[20,23,24,22,20,34,43,36,37,33],\n",
    "    'gender':['Male', 'Female', 'Male', 'Female', 'Female', \n",
    "              'Male', 'Male', 'Male', 'Male', 'Female']\n",
    "})\n",
    "\n",
    "df"
   ]
  },
  {
   "cell_type": "code",
   "execution_count": 10,
   "id": "8fb22377-4ef1-47ca-ad87-909923966518",
   "metadata": {},
   "outputs": [
    {
     "data": {
      "text/html": [
       "<div>\n",
       "<style scoped>\n",
       "    .dataframe tbody tr th:only-of-type {\n",
       "        vertical-align: middle;\n",
       "    }\n",
       "\n",
       "    .dataframe tbody tr th {\n",
       "        vertical-align: top;\n",
       "    }\n",
       "\n",
       "    .dataframe thead th {\n",
       "        text-align: right;\n",
       "    }\n",
       "</style>\n",
       "<table border=\"1\" class=\"dataframe\">\n",
       "  <thead>\n",
       "    <tr style=\"text-align: right;\">\n",
       "      <th></th>\n",
       "      <th>name</th>\n",
       "      <th>age</th>\n",
       "      <th>gender</th>\n",
       "      <th>occupation</th>\n",
       "    </tr>\n",
       "  </thead>\n",
       "  <tbody>\n",
       "    <tr>\n",
       "      <th>0</th>\n",
       "      <td>Frank</td>\n",
       "      <td>20</td>\n",
       "      <td>Male</td>\n",
       "      <td>Programmer</td>\n",
       "    </tr>\n",
       "    <tr>\n",
       "      <th>1</th>\n",
       "      <td>Alice</td>\n",
       "      <td>23</td>\n",
       "      <td>Female</td>\n",
       "      <td>Manager</td>\n",
       "    </tr>\n",
       "    <tr>\n",
       "      <th>2</th>\n",
       "      <td>Bob</td>\n",
       "      <td>24</td>\n",
       "      <td>Male</td>\n",
       "      <td>Analyst</td>\n",
       "    </tr>\n",
       "    <tr>\n",
       "      <th>3</th>\n",
       "      <td>Grazy</td>\n",
       "      <td>22</td>\n",
       "      <td>Female</td>\n",
       "      <td>Manager</td>\n",
       "    </tr>\n",
       "    <tr>\n",
       "      <th>4</th>\n",
       "      <td>Ann</td>\n",
       "      <td>20</td>\n",
       "      <td>Female</td>\n",
       "      <td>Programmer</td>\n",
       "    </tr>\n",
       "    <tr>\n",
       "      <th>5</th>\n",
       "      <td>Charly</td>\n",
       "      <td>34</td>\n",
       "      <td>Male</td>\n",
       "      <td>Analyst</td>\n",
       "    </tr>\n",
       "    <tr>\n",
       "      <th>6</th>\n",
       "      <td>David</td>\n",
       "      <td>43</td>\n",
       "      <td>Male</td>\n",
       "      <td>Manager</td>\n",
       "    </tr>\n",
       "    <tr>\n",
       "      <th>7</th>\n",
       "      <td>Jian</td>\n",
       "      <td>36</td>\n",
       "      <td>Male</td>\n",
       "      <td>Programmer</td>\n",
       "    </tr>\n",
       "    <tr>\n",
       "      <th>8</th>\n",
       "      <td>Harry</td>\n",
       "      <td>37</td>\n",
       "      <td>Male</td>\n",
       "      <td>Analyst</td>\n",
       "    </tr>\n",
       "    <tr>\n",
       "      <th>9</th>\n",
       "      <td>Rose</td>\n",
       "      <td>33</td>\n",
       "      <td>Female</td>\n",
       "      <td>Analyst</td>\n",
       "    </tr>\n",
       "  </tbody>\n",
       "</table>\n",
       "</div>"
      ],
      "text/plain": [
       "     name  age  gender  occupation\n",
       "0   Frank   20    Male  Programmer\n",
       "1   Alice   23  Female     Manager\n",
       "2     Bob   24    Male     Analyst\n",
       "3   Grazy   22  Female     Manager\n",
       "4     Ann   20  Female  Programmer\n",
       "5  Charly   34    Male     Analyst\n",
       "6   David   43    Male     Manager\n",
       "7    Jian   36    Male  Programmer\n",
       "8   Harry   37    Male     Analyst\n",
       "9    Rose   33  Female     Analyst"
      ]
     },
     "execution_count": 10,
     "metadata": {},
     "output_type": "execute_result"
    }
   ],
   "source": [
    "#Exercise 5\n",
    "\n",
    "df['occupation']=['Programmer', 'Manager', 'Analyst', 'Manager', 'Programmer', 'Analyst', 'Manager', 'Programmer', 'Analyst', 'Analyst']\n",
    "df"
   ]
  },
  {
   "cell_type": "code",
   "execution_count": 11,
   "id": "612999c6-5fe5-41ee-ada7-9d2d67f9754e",
   "metadata": {},
   "outputs": [
    {
     "name": "stdout",
     "output_type": "stream",
     "text": [
      "     name  age  gender  occupation\n",
      "5  Charly   34    Male     Analyst\n",
      "6   David   43    Male     Manager\n",
      "7    Jian   36    Male  Programmer\n",
      "8   Harry   37    Male     Analyst\n",
      "9    Rose   33  Female     Analyst\n"
     ]
    }
   ],
   "source": [
    "#Exercise 6\n",
    "\n",
    "age_condition=df[df['age']>=30]\n",
    "print(age_condition)"
   ]
  },
  {
   "cell_type": "code",
   "execution_count": 13,
   "id": "68c04eb8-3d02-406f-927b-5cc4a10ceed1",
   "metadata": {},
   "outputs": [
    {
     "name": "stdout",
     "output_type": "stream",
     "text": [
      "df saved as 'Employee.csv'.\n",
      "     name  age  gender  occupation\n",
      "0   Frank   20    Male  Programmer\n",
      "1   Alice   23  Female     Manager\n",
      "2     Bob   24    Male     Analyst\n",
      "3   Grazy   22  Female     Manager\n",
      "4     Ann   20  Female  Programmer\n",
      "5  Charly   34    Male     Analyst\n",
      "6   David   43    Male     Manager\n",
      "7    Jian   36    Male  Programmer\n",
      "8   Harry   37    Male     Analyst\n",
      "9    Rose   33  Female     Analyst\n"
     ]
    }
   ],
   "source": [
    "#Exercise 7\n",
    "\n",
    "df.to_csv('Employee.csv', index=False)\n",
    "print(\"df saved as 'Employee.csv'.\")\n",
    "df_csv_read=pd.read_csv('Employee.csv')\n",
    "print(df_csv_read)"
   ]
  },
  {
   "cell_type": "code",
   "execution_count": null,
   "id": "8e8552d7-f586-4a89-b661-209268303ada",
   "metadata": {},
   "outputs": [],
   "source": []
  }
 ],
 "metadata": {
  "kernelspec": {
   "display_name": "Python 3 (ipykernel)",
   "language": "python",
   "name": "python3"
  },
  "language_info": {
   "codemirror_mode": {
    "name": "ipython",
    "version": 3
   },
   "file_extension": ".py",
   "mimetype": "text/x-python",
   "name": "python",
   "nbconvert_exporter": "python",
   "pygments_lexer": "ipython3",
   "version": "3.12.7"
  }
 },
 "nbformat": 4,
 "nbformat_minor": 5
}
